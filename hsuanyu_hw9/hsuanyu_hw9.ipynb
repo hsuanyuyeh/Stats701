{
 "cells": [
  {
   "cell_type": "markdown",
   "metadata": {},
   "source": [
    "# Stats 701-Homework8 Winter 2018\n",
    "## Hsuan-Yu Yeh \n",
    "### hsuanyu@umich.edu\n",
    "I discuss with Roger for the algorithm of question 3. For problem 1, I spent 2 hours to finish it. For problem 2, I spent about 3 hours. For problem 3, I spent 3 hours."
   ]
  },
  {
   "cell_type": "markdown",
   "metadata": {},
   "source": [
    "## Problem 1: counting words with mrjob"
   ]
  },
  {
   "cell_type": "code",
   "execution_count": 96,
   "metadata": {},
   "outputs": [
    {
     "name": "stderr",
     "output_type": "stream",
     "text": [
      "usage: usage: ipykernel_launcher.py [options] [input files]\n",
      "ipykernel_launcher.py: error: unrecognized arguments: -f\n"
     ]
    },
    {
     "ename": "SystemExit",
     "evalue": "2",
     "output_type": "error",
     "traceback": [
      "An exception has occurred, use %tb to see the full traceback.\n",
      "\u001b[0;31mSystemExit\u001b[0m\u001b[0;31m:\u001b[0m 2\n"
     ]
    },
    {
     "name": "stderr",
     "output_type": "stream",
     "text": [
      "/Library/Frameworks/Python.framework/Versions/3.6/lib/python3.6/site-packages/IPython/core/interactiveshell.py:2918: UserWarning: To exit: use 'exit', 'quit', or Ctrl-D.\n",
      "  warn(\"To exit: use 'exit', 'quit', or Ctrl-D.\", stacklevel=1)\n"
     ]
    }
   ],
   "source": [
    "# Q1-1\n",
    "from mrjob.job import MRJob\n",
    "import re\n",
    "\n",
    "WORD_RE = re.compile(r'[\\w]+') \n",
    "class MRWordFrequencyCount(MRJob):\n",
    "\n",
    "    def mapper(self, _, line):\n",
    "        for word in WORD_RE.findall(line):\n",
    "            yield (word.lower(), 1)\n",
    "    \n",
    "    def reducer(self, key, values):\n",
    "        yield key, sum(values)\n",
    "\n",
    "\n",
    "if __name__ == '__main__':\n",
    "    MRWordFrequencyCount.run()"
   ]
  },
  {
   "cell_type": "code",
   "execution_count": 28,
   "metadata": {},
   "outputs": [
    {
     "data": {
      "image/png": "[encoded data removed]",
      "text/plain": [
       "<matplotlib.figure.Figure at 0x1096a4a90>"
      ]
     },
     "metadata": {},
     "output_type": "display_data"
    }
   ],
   "source": [
    "# Q1-4\n",
    "\n",
    "import os\n",
    "import matplotlib.pyplot as plt \n",
    "import numpy as np\n",
    "\n",
    "os.chdir('/Users/yehhsuan-yu/Umich/Stats701/hsuanyu_hw9')\n",
    "f = open('word_counts.txt', 'r')\n",
    "dat = list()\n",
    "for line in f:\n",
    "    inner_list = [elt.strip() for elt in line.split('\\t')]\n",
    "    inner_list[1] = int(inner_list[1])\n",
    "    dat.append(inner_list)\n",
    "\n",
    "dat_sort = sorted(dat, key = lambda x: x[1], reverse=True)\n",
    "num = list()\n",
    "for i in dat_sort:\n",
    "    num.append(i[1])\n",
    "rank = range(1, len(num)+1)\n",
    "x = np.asarray(rank)\n",
    "y = np.asarray(num)\n",
    "plt.loglog(x, y)\n",
    "plt.title('loglog plot for moby_dick')\n",
    "plt.xlabel('log(rank)')\n",
    "plt.ylabel('log(count)')\n",
    "plt.show()"
   ]
  },
  {
   "cell_type": "markdown",
   "metadata": {},
   "source": [
    "##### Q1-5\n",
    "The plot look like a line with slope equals to -1. According to the power law, there is a functional relationship between two quantities. One quantity varies as a power of another."
   ]
  },
  {
   "cell_type": "markdown",
   "metadata": {},
   "source": [
    "## Problem 2: Computing Sample Statistics with mrjob"
   ]
  },
  {
   "cell_type": "code",
   "execution_count": null,
   "metadata": {},
   "outputs": [],
   "source": [
    "# Q2-1\n",
    "#### I count the variance with n in the denominator of sample variance formula\n",
    "from mrjob.job import MRJob\n",
    "import re\n",
    "\n",
    "WORD_RE = re.compile(r'[\\w]+') \n",
    "class MRSummaryStats(MRJob):\n",
    "\n",
    "    def mapper(self, _, line):\n",
    "        numb = line.split()\n",
    "        yield numb[0], (float(numb[1]), 1)\n",
    "        \n",
    "    def reducer(self, key, values):\n",
    "        count = []\n",
    "        count2 = []\n",
    "        numb = []\n",
    "        for value in values:\n",
    "            count.append(value[0])\n",
    "            count2.append(value[0]**2)\n",
    "            numb.append(value[1])\n",
    "        yield key, (sum(numb), sum(count)/sum(numb), (sum(count2)-(sum(count))**2/sum(numb))/sum(numb))\n",
    "\n",
    "\n",
    "if __name__ == '__main__':\n",
    "    MRSummaryStats.run()"
   ]
  },
  {
   "cell_type": "code",
   "execution_count": 68,
   "metadata": {},
   "outputs": [
    {
     "data": {
      "text/plain": [
       "[['\"0\"', [834237.0, 11.562434283892557, 10.241341671213286]],\n",
       " ['\"1\"', [833777.0, 22.067051460814614, 10.539764876013846]],\n",
       " ['\"10\"', [834949.0, 2.8455360916440164, 11.24417805388734]],\n",
       " ['\"11\"', [832304.0, 34.5728640569971, 9.774299755002438]],\n",
       " ['\"2\"', [832451.0, 14.857210333720584, 10.242893201350853]],\n",
       " ['\"3\"', [832676.0, 19.11766927764743, 9.898232515779783]],\n",
       " ['\"4\"', [833149.0, 15.099974508256016, 10.560865106460811]],\n",
       " ['\"5\"', [831961.0, 6.847776079634745, 11.2624381804851]],\n",
       " ['\"6\"', [833335.0, 3.556395959278101, 8.585371769197936]],\n",
       " ['\"7\"', [834354.0, 4.798076383114637, 10.110437998667852]],\n",
       " ['\"8\"', [833649.0, 15.778497492611915, 10.196126596959774]],\n",
       " ['\"9\"', [833158.0, 8.631111917292886, 9.316771476808439]]]"
      ]
     },
     "execution_count": 68,
     "metadata": {},
     "output_type": "execute_result"
    }
   ],
   "source": [
    "# Q2-4\n",
    "import re\n",
    "import math\n",
    "\n",
    "f = open('summary_large.txt', 'r')\n",
    "dat = list()\n",
    "for line in f:\n",
    "    l = list()\n",
    "    inner_list = [elt.strip() for elt in line.split('\\t')]\n",
    "    inner_list[1] = re.findall(r'\\d+\\.*\\d+', inner_list[1])\n",
    "    inner_list[1] = list(map(lambda x: float(x), inner_list[1]))\n",
    "    dat.append(inner_list)\n",
    "\n",
    "for row in dat:\n",
    "    row[1][2] = math.sqrt(row[1][2]/row[1][0])\n",
    "dat"
   ]
  },
  {
   "cell_type": "code",
   "execution_count": 95,
   "metadata": {},
   "outputs": [
    {
     "data": {
      "image/png": "[encoded data removed]",
      "text/plain": [
       "<matplotlib.figure.Figure at 0x1099bb198>"
      ]
     },
     "metadata": {},
     "output_type": "display_data"
    }
   ],
   "source": [
    "import matplotlib.pyplot as plt\n",
    "\n",
    "means = list()\n",
    "std = list()\n",
    "names = list()\n",
    "for i in range(len(dat)):\n",
    "    means.append(dat[i][1][1])\n",
    "    std.append(dat[i][1][2])\n",
    "    names.append(dat[i][0])\n",
    "    \n",
    "means = np.array(means)\n",
    "std  = 1.96*np.array(std)\n",
    "\n",
    "plt.errorbar(np.arange(12), means, std, fmt='.k', ecolor='gray',lw=3)\n",
    "ax = plt.gca()\n",
    "ax.set_xticks(range(len(names)))\n",
    "ax.set_xticklabels(names)\n",
    "plt.title('The 95% confidence interval for populatons_large file')\n",
    "plt.xlabel('word')\n",
    "plt.ylabel('95% confidence interval')\n",
    "plt.show()\n"
   ]
  },
  {
   "cell_type": "markdown",
   "metadata": {},
   "source": [
    "## Problem 3:  Counting Triangles with PySpark"
   ]
  },
  {
   "cell_type": "code",
   "execution_count": null,
   "metadata": {},
   "outputs": [],
   "source": [
    "# Q3-1\n",
    "\n",
    "from pyspark import SparkConf, SparkContext\n",
    "import sys\n",
    "\n",
    "if len(sys.argv) != 3:\n",
    "    print('Usage:' + sys.argv[0] + '<in><out>')\n",
    "    sys.exit(1)\n",
    "inputlocation = sys.argv[1]\n",
    "outputlocation = sys.argv[2]\n",
    " \n",
    "# set up configuration and jon context\n",
    "conf = SparkConf().setAppName('Test')\n",
    "sc = SparkContext(conf = conf)\n",
    "\n",
    "# load the data\n",
    "data = sc.textFile(inputlocation)\n",
    "data = data.map(lambda line: line.split())\n",
    "\n",
    "def pair(l):\n",
    "    pa = [tuple(sorted((l[0],l[i],l[j]))) for i in range(1, len(l)) for j in range(i+1, len(l))]\n",
    "    return(pa)\n",
    "\n",
    "\n",
    "data_new = data.flatMap(lambda row: pair(row))\n",
    "data_new1 = data_new.map(lambda ele: (ele, 1))\n",
    "data_new2 = data_new1.reduceByKey(lambda x,y: x+y)\n",
    "data_new3 = data_new2.filter(lambda x: x[1]>=2)\n",
    "output = data_new3.map(lambda x: x[0])\n",
    "\n",
    "output.saveAsTextFile(outputlocation)\n",
    "sc.stop()\n",
    "\n"
   ]
  },
  {
   "cell_type": "code",
   "execution_count": null,
   "metadata": {},
   "outputs": [],
   "source": []
  }
 ],
 "metadata": {
  "kernelspec": {
   "display_name": "Python 3",
   "language": "python",
   "name": "python3"
  },
  "language_info": {
   "codemirror_mode": {
    "name": "ipython",
    "version": 3
   },
   "file_extension": ".py",
   "mimetype": "text/x-python",
   "name": "python",
   "nbconvert_exporter": "python",
   "pygments_lexer": "ipython3",
   "version": "3.6.4"
  }
 },
 "nbformat": 4,
 "nbformat_minor": 2
}
