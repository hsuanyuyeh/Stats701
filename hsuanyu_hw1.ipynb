{
 "cells": [
  {
   "cell_type": "markdown",
   "metadata": {},
   "source": [
    "# Stats 700-Homework1 Winter 2018\n",
    "\n",
    "## Hsuan-Yu Yeh\n",
    "\n",
    "### hsuanyu@umich.edu\n",
    "I didn't discuss with anyone else in the class for the homework this time. For problem 1, I just write it through rapidely. For problem 2, it took me a few time to figure out the algorithm for GCD and that's intereting to learn it. For problem 3, I spent some time reading the quesions and wrote the factorial through recursion. I think ask us to use different algorithm methods to implement the code is interesting. I would like to see as much as different algorithm ways as possible.  "
   ]
  },
  {
   "cell_type": "markdown",
   "metadata": {},
   "source": [
    "### Problem 1: Defining simple funcitons\n",
    "In this problem, we define some simple functions in Python."
   ]
  },
  {
   "cell_type": "code",
   "execution_count": 10,
   "metadata": {},
   "outputs": [
    {
     "name": "stdout",
     "output_type": "stream",
     "text": [
      "Hello, world!\n"
     ]
    }
   ],
   "source": [
    "# Q1-1\n",
    "def say_hello():\n",
    "    print('Hello, world!')\n",
    "\n",
    "say_hello()"
   ]
  },
  {
   "cell_type": "code",
   "execution_count": 11,
   "metadata": {},
   "outputs": [
    {
     "name": "stdout",
     "output_type": "stream",
     "text": [
      "goatdoggoat\n",
      "goat_goat\n"
     ]
    }
   ],
   "source": [
    "# Q1-2\n",
    "def goat_pad(input):\n",
    "    print('goat'+input+'goat')\n",
    "\n",
    "goat_pad('dog')\n",
    "goat_pad('_')"
   ]
  },
  {
   "cell_type": "code",
   "execution_count": 12,
   "metadata": {},
   "outputs": [
    {
     "name": "stdout",
     "output_type": "stream",
     "text": [
      "dog\n",
      "dog\n",
      "dog\n",
      "dog\n",
      "dog\n"
     ]
    }
   ],
   "source": [
    "# Q1-3\n",
    "def print_n(s,n):\n",
    "    while n > 0:\n",
    "        print(s)\n",
    "        n = n-1\n",
    "\n",
    "print_n('dog', 5)\n"
   ]
  },
  {
   "cell_type": "markdown",
   "metadata": {},
   "source": [
    "### Problem 2: Euclid's algorithm\n",
    "Euclid's algorithm is a way to find the greatest common diviser(GCD) of two natural numbers. (From Wikipedia)\n",
    "##### Algorithm:\n",
    "$g = gcd(a,b) = g(b,r_{0}) = g(r_{0}, r_{1}) =...= gcd(r_{N-2}, r_{N-1}) = r_{N-1}$, where $a = q_{0}b + r_{0}, b = q_{1}r_{0} + r_{1}, r_{0} = q_{2}r_{1} + r_{2}$...\n",
    "##### Proof:\n",
    "The validity of the Euclidean algorithm can be proven by a two-step argument. In the first step, the final nonzero remainder $r_{N−1}$ is shown to divide both a and b. Since it is a common divisor, it must be less than or equal to the greatest common divisor g. In the second step, it is shown that any common divisor of a and b, including g, must divide $r_{N−1}$; therefore, g must be less than or equal to $r_{N−1}$. These two conclusions are inconsistent unless $r_{N−1}$ = g."
   ]
  },
  {
   "cell_type": "code",
   "execution_count": 13,
   "metadata": {},
   "outputs": [
    {
     "name": "stdout",
     "output_type": "stream",
     "text": [
      "10\n",
      "1\n",
      "250\n",
      "60\n"
     ]
    }
   ],
   "source": [
    "# Q2-1\n",
    "def gcd(a,b):\n",
    "    if b == 0:\n",
    "        return a\n",
    "    else:\n",
    "        return gcd(b, a%b)\n",
    "    \n",
    "gcd(1071, 462)\n",
    "\n",
    "# Q2-2\n",
    "print(gcd(20, 10))\n",
    "print(gcd(2017, 2018))\n",
    "print(gcd(1000, 250))\n",
    "print(gcd(5040, 60))"
   ]
  },
  {
   "cell_type": "markdown",
   "metadata": {},
   "source": [
    "##### Q2-3\n",
    "If one of the argument is negative, the function works well. However, when both of the argument are negative, the result goes wrong since it take -1 into account. "
   ]
  },
  {
   "cell_type": "markdown",
   "metadata": {},
   "source": [
    "### Problem 3: Approximating Euler's number $e$\n",
    "The Euler's number, e, is defined as the infinite sum, $e = \\sum_{0}^{\\infty}\\frac{1}{k!} = 1+1+\\frac{1}{2}+\\frac{1}{6}+\\frac{1}{24}+...$. We can also approach the number through the formula, $\\lim_{x\\to\\infty}(1+\\frac{1}{x})^{x}$."
   ]
  },
  {
   "cell_type": "code",
   "execution_count": 14,
   "metadata": {},
   "outputs": [
    {
     "data": {
      "text/plain": [
       "2.7048138294215285"
      ]
     },
     "execution_count": 14,
     "metadata": {},
     "output_type": "execute_result"
    }
   ],
   "source": [
    "# Q3-1, approach the number through taking the limit\n",
    "def euler_limit(n):\n",
    "    lim = (1+1/n)**n\n",
    "    return(lim)\n",
    "\n",
    "euler_limit(100)"
   ]
  },
  {
   "cell_type": "code",
   "execution_count": 15,
   "metadata": {},
   "outputs": [
    {
     "name": "stdout",
     "output_type": "stream",
     "text": [
      "0\n",
      "1.0\n",
      "2.6666666666666665\n"
     ]
    }
   ],
   "source": [
    "# Q3-2, approach the number through the sum\n",
    "def fact(n):\n",
    "    if n >= 1:\n",
    "        return(n*fact(n-1))\n",
    "    else:\n",
    "        return(1)\n",
    "    \n",
    "def euler_infinite_sum(n):\n",
    "    sum = 0\n",
    "    while n >= 1:\n",
    "        sum = sum + 1/fact(n-1)\n",
    "        n = n-1\n",
    "    return(sum)\n",
    "\n",
    "print(euler_infinite_sum(0))\n",
    "print(euler_infinite_sum(1))\n",
    "print(euler_infinite_sum(4))"
   ]
  },
  {
   "cell_type": "code",
   "execution_count": 16,
   "metadata": {},
   "outputs": [
    {
     "data": {
      "text/plain": [
       "2.708333333333333"
      ]
     },
     "execution_count": 16,
     "metadata": {},
     "output_type": "execute_result"
    }
   ],
   "source": [
    "# Q3-3, approximate the number through sum by setting an approximating error\n",
    "import math\n",
    "def euler_approx(epsilon):\n",
    "    n = 1\n",
    "    error = abs(euler_infinite_sum(n) - math.exp(1))\n",
    "    while error > epsilon:\n",
    "        n = n+1\n",
    "        error = abs(euler_infinite_sum(n) - math.exp(1))\n",
    "    return euler_infinite_sum(n)\n",
    "\n",
    "euler_approx(0.05)"
   ]
  },
  {
   "cell_type": "code",
   "execution_count": 18,
   "metadata": {},
   "outputs": [
    {
     "name": "stdout",
     "output_type": "stream",
     "text": [
      "k: 0 Estimation: 0\n",
      "k: 1 Estimation: 1.0\n",
      "k: 2 Estimation: 2.0\n",
      "k: 3 Estimation: 2.5\n",
      "k: 4 Estimation: 2.6666666666666665\n",
      "k: 5 Estimation: 2.708333333333333\n"
     ]
    }
   ],
   "source": [
    "# Q3-4, print the successive values obtained from the approximation\n",
    "def print_euler_sum_table(n):\n",
    "    k = 0\n",
    "    while k <= n:\n",
    "        print('k:', k, 'Estimation:', euler_infinite_sum(k))\n",
    "        k = k+1\n",
    "        \n",
    "print_euler_sum_table(5)"
   ]
  }
 ],
 "metadata": {
  "kernelspec": {
   "display_name": "Python 3",
   "language": "python",
   "name": "python3"
  },
  "language_info": {
   "codemirror_mode": {
    "name": "ipython",
    "version": 3
   },
   "file_extension": ".py",
   "mimetype": "text/x-python",
   "name": "python",
   "nbconvert_exporter": "python",
   "pygments_lexer": "ipython3",
   "version": "3.6.4"
  }
 },
 "nbformat": 4,
 "nbformat_minor": 2
}
