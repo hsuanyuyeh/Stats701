{
 "cells": [
  {
   "cell_type": "markdown",
   "metadata": {},
   "source": [
    "# Stats 701-Homework5 Winter 2018\n",
    "## Hsuan-Yu Yeh \n",
    "### hsuanyu@umich.edu\n",
    "I didn't discuss with others for this homework. For problem1, I spent 3 hours to finish it. For problem2&3, I spent about 2 hours for each. For problem4, I also spent 2 hours for it."
   ]
  },
  {
   "cell_type": "markdown",
   "metadata": {},
   "source": [
    "### Problem 1: Iterators and Generators\n",
    "Creating Iterators and generators"
   ]
  },
  {
   "cell_type": "code",
   "execution_count": 1,
   "metadata": {},
   "outputs": [
    {
     "data": {
      "text/plain": [
       "1"
      ]
     },
     "execution_count": 1,
     "metadata": {},
     "output_type": "execute_result"
    }
   ],
   "source": [
    "# Q1-1\n",
    "class Fibo:\n",
    "    def __init__(self, a=0, b = 1): \n",
    "        self.a, self.b = a, b\n",
    "        \n",
    "    def __iter__(self):\n",
    "        return self\n",
    "    \n",
    "    def __next__(self):\n",
    "        ans = self.a\n",
    "        self.a, self.b = self.b, self.a+self.b\n",
    "        return(ans)\n",
    "        \n",
    "x = Fibo()\n",
    "next(x)\n",
    "next(x)"
   ]
  },
  {
   "cell_type": "code",
   "execution_count": 37,
   "metadata": {},
   "outputs": [
    {
     "data": {
      "text/plain": [
       "[0, 1, 2, 3, 4, 5, 6, 7, 8]"
      ]
     },
     "execution_count": 37,
     "metadata": {},
     "output_type": "execute_result"
    }
   ],
   "source": [
    "# Q1-2\n",
    "def integers():\n",
    "    (i,n) = (0,1)\n",
    "    while True:\n",
    "        yield h\n",
    "        (i,n) = (i+1, n+1) \n",
    "        \n",
    "x = integers()\n",
    "[next(x) for _ in range(1,10)]"
   ]
  },
  {
   "cell_type": "code",
   "execution_count": 50,
   "metadata": {},
   "outputs": [
    {
     "data": {
      "text/plain": [
       "[2, 3, 5, 7, 11, 13, 17, 19, 23, 29, 31, 37, 41, 43, 47, 53, 59]"
      ]
     },
     "execution_count": 50,
     "metadata": {},
     "output_type": "execute_result"
    }
   ],
   "source": [
    "# Q1-3 \n",
    "def primes():\n",
    "    prime = list()\n",
    "    prime.append(2)\n",
    "    (m, n) = (2,1)\n",
    "    yield 2\n",
    "    while True:\n",
    "        if all(m % p for p in prime)==True:\n",
    "            prime.append(m)\n",
    "            yield m\n",
    "            m = m+1\n",
    "        else:\n",
    "            m = m+1\n",
    "            continue\n",
    "        \n",
    "\n",
    "x = primes()\n",
    "[next(x) for _ in range(1,18)]"
   ]
  },
  {
   "cell_type": "markdown",
   "metadata": {},
   "source": [
    "### Problem 2: List Comprehensions and Generator Expressions\n",
    "Creating list comprehensiona and generator expressions"
   ]
  },
  {
   "cell_type": "code",
   "execution_count": 49,
   "metadata": {},
   "outputs": [
    {
     "data": {
      "text/plain": [
       "[1,\n",
       " 9,\n",
       " 25,\n",
       " 49,\n",
       " 81,\n",
       " 121,\n",
       " 169,\n",
       " 225,\n",
       " 289,\n",
       " 361,\n",
       " 441,\n",
       " 529,\n",
       " 625,\n",
       " 729,\n",
       " 841,\n",
       " 961,\n",
       " 1089,\n",
       " 1225,\n",
       " 1369,\n",
       " 1521]"
      ]
     },
     "execution_count": 49,
     "metadata": {},
     "output_type": "execute_result"
    }
   ],
   "source": [
    "# Q2-1 \n",
    "[(2*x-1)**2 for x in range(1,21)]"
   ]
  },
  {
   "cell_type": "code",
   "execution_count": 35,
   "metadata": {},
   "outputs": [
    {
     "data": {
      "text/plain": [
       "[1,\n",
       " 8,\n",
       " 27,\n",
       " 64,\n",
       " 125,\n",
       " 216,\n",
       " 343,\n",
       " 512,\n",
       " 729,\n",
       " 1000,\n",
       " 1331,\n",
       " 1728,\n",
       " 2197,\n",
       " 2744,\n",
       " 3375,\n",
       " 4096,\n",
       " 4913,\n",
       " 5832,\n",
       " 6859]"
      ]
     },
     "execution_count": 35,
     "metadata": {},
     "output_type": "execute_result"
    }
   ],
   "source": [
    "# Q2-2 \n",
    "gen_exp_1 = (x**3 for x in range(1,20))\n",
    "[next(gen_exp_1) for _ in range(1,20)]"
   ]
  },
  {
   "cell_type": "code",
   "execution_count": 44,
   "metadata": {},
   "outputs": [
    {
     "data": {
      "text/plain": [
       "[1.0, 4.0, 10.0, 20.0, 35.0, 56.0, 84.0, 120.0, 165.0, 220.0]"
      ]
     },
     "execution_count": 44,
     "metadata": {},
     "output_type": "execute_result"
    }
   ],
   "source": [
    "# Q2-3\n",
    "import scipy.special\n",
    "def integers(limit):\n",
    "    i = 0\n",
    "    while i < limit:\n",
    "        i = i+1\n",
    "        yield i\n",
    "\n",
    "# tetrahedral Generator       \n",
    "def tetrahedral():\n",
    "    (h, n) = (0,1)\n",
    "    while True:\n",
    "        (h,n) = (scipy.special.binom(n+2, 3), n+1)\n",
    "        yield h\n",
    "\n",
    "# tetrahedral Generator Expression       \n",
    "c = integers(10)\n",
    "l = [next(c) for _ in range(1,11)]\n",
    "gen_exp_2 = (scipy.special.binom(x+2, 3) for x in l)\n",
    "[next(gen_exp_2) for _ in range(10)]"
   ]
  },
  {
   "cell_type": "markdown",
   "metadata": {},
   "source": [
    "### Problem 3: Map, Filter and Reduce\n",
    "Implement Map, Filter and Reduce operations"
   ]
  },
  {
   "cell_type": "code",
   "execution_count": 7,
   "metadata": {},
   "outputs": [
    {
     "data": {
      "text/plain": [
       "1330"
      ]
     },
     "execution_count": 7,
     "metadata": {},
     "output_type": "execute_result"
    }
   ],
   "source": [
    "# Q3-1\n",
    "import functools\n",
    "functools.reduce(lambda x,y:x+y, [(2*i-1)**2 for i in range(1,11)])"
   ]
  },
  {
   "cell_type": "code",
   "execution_count": 45,
   "metadata": {},
   "outputs": [
    {
     "data": {
      "text/plain": [
       "1922760350154212639070"
      ]
     },
     "execution_count": 45,
     "metadata": {},
     "output_type": "execute_result"
    }
   ],
   "source": [
    "# Q3-2\n",
    "p = primes()\n",
    "l = [next(p) for _ in range(1,18)]\n",
    "functools.reduce(lambda x,y:x*y, [i for i in l])"
   ]
  },
  {
   "cell_type": "code",
   "execution_count": 11,
   "metadata": {},
   "outputs": [
    {
     "data": {
      "text/plain": [
       "[1.0,\n",
       " 1.5,\n",
       " 1.8333333333333333,\n",
       " 2.083333333333333,\n",
       " 2.283333333333333,\n",
       " 2.4499999999999997,\n",
       " 2.5928571428571425,\n",
       " 2.7178571428571425,\n",
       " 2.8289682539682537]"
      ]
     },
     "execution_count": 11,
     "metadata": {},
     "output_type": "execute_result"
    }
   ],
   "source": [
    "# Q3-3\n",
    "import itertools\n",
    "list(itertools.accumulate([1/k for k in range(1,10)]))"
   ]
  },
  {
   "cell_type": "code",
   "execution_count": 42,
   "metadata": {},
   "outputs": [
    {
     "data": {
      "text/plain": [
       "29.91378180628326"
      ]
     },
     "execution_count": 42,
     "metadata": {},
     "output_type": "execute_result"
    }
   ],
   "source": [
    "# Q3-4 \n",
    "import functools\n",
    "gen = tetrahedral()\n",
    "functools.reduce(lambda x,y:x*y, [next(gen) for _ in range(1,11)])**(1/10)"
   ]
  },
  {
   "cell_type": "markdown",
   "metadata": {},
   "source": [
    "### Problem 4: Fun with Polynomials\n",
    "Implement higher-order functions"
   ]
  },
  {
   "cell_type": "code",
   "execution_count": 14,
   "metadata": {},
   "outputs": [],
   "source": [
    "# Q4-1\n",
    "def eval_poly(x,coeffs):\n",
    "    return(sum([coeffs[i]*(x**(i)) for i in range(len(coeffs))]))\n",
    "\n"
   ]
  },
  {
   "cell_type": "code",
   "execution_count": 15,
   "metadata": {},
   "outputs": [
    {
     "data": {
      "text/plain": [
       "129"
      ]
     },
     "execution_count": 15,
     "metadata": {},
     "output_type": "execute_result"
    }
   ],
   "source": [
    "# Q4-2 \n",
    "def make_poly(coeffs):\n",
    "    def p(x):\n",
    "        return(eval_poly(x,coeffs))\n",
    "    return p\n",
    "\n",
    "coeffs = [1,2,3,4,5]\n",
    "new = make_poly(coeffs)(2)\n",
    "new"
   ]
  },
  {
   "cell_type": "code",
   "execution_count": null,
   "metadata": {},
   "outputs": [],
   "source": []
  }
 ],
 "metadata": {
  "kernelspec": {
   "display_name": "Python 3",
   "language": "python",
   "name": "python3"
  },
  "language_info": {
   "codemirror_mode": {
    "name": "ipython",
    "version": 3
   },
   "file_extension": ".py",
   "mimetype": "text/x-python",
   "name": "python",
   "nbconvert_exporter": "python",
   "pygments_lexer": "ipython3",
   "version": "3.6.4"
  }
 },
 "nbformat": 4,
 "nbformat_minor": 2
}
