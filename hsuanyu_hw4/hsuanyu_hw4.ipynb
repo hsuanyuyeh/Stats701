{
 "cells": [
  {
   "cell_type": "markdown",
   "metadata": {},
   "source": [
    "# Stats 701-Homework4 Winter 2018\n",
    "## Hsuan-Yu Yeh \n",
    "### hsuanyu@umich.edu\n",
    "I discuss with Amon Taxali and Yung-Chun Lee for this homework. For problem1, I spent 4 hours to finish it. For problem2&3, I spent about 3.5 hours for each. "
   ]
  },
  {
   "cell_type": "markdown",
   "metadata": {},
   "source": [
    "## Why choose list?\n",
    "I would like to choose list, which is mutable and assignable. Because I set the default vector to be a list of zero and if I want to change the elements of it, list is a better choice."
   ]
  },
  {
   "cell_type": "markdown",
   "metadata": {},
   "source": [
    "## Why instance attributes?\n",
    "I would like to set the dimension and entries as instance attributes. Because the dimension and entries of each Vector is different, I don't want a certain solid value to be shared by all Vector instances."
   ]
  },
  {
   "cell_type": "code",
   "execution_count": 16,
   "metadata": {},
   "outputs": [
    {
     "name": "stdout",
     "output_type": "stream",
     "text": [
      "4.0\n"
     ]
    }
   ],
   "source": [
    "# Q1-1,4,5,6\n",
    "class Vector:\n",
    "    '''Represent a row vector.\n",
    "    Attributes: int dim, list or tuple num'''\n",
    "    \n",
    "    def __init__(self, dim, num=None):\n",
    "        if not isinstance(dim, int) or dim <= 0:\n",
    "            raise TypeError('The input dim should be positive integer!')\n",
    "        if not num:\n",
    "            self.num = [0]*dim\n",
    "        else:\n",
    "            if not isinstance(num, (tuple, list)):\n",
    "                raise TypesError('The input num should be list or tuple')\n",
    "            if all([type(i) in (int, float) for i in num]) != True:\n",
    "                raise TypeError('The elements of nume should be int or float!')\n",
    "            if len(num) != dim:\n",
    "                raise ValueError('The dimension and the length of number should be equal!')\n",
    "            \n",
    "            self.num = list(num)\n",
    "        self.dim = dim\n",
    "                \n",
    "    def dot(self, other):\n",
    "        '''Returns the inner-product of self and other vector'''\n",
    "        \n",
    "        if type(other) != type(self):\n",
    "            raise TypeError('The vector should be valid!')\n",
    "        elif other.dim != self.dim:\n",
    "            raise ValueError('The dimension of the two vectors should agree!')\n",
    "        else:\n",
    "            return(sum(i*j for i,j in zip(self.num, other.num)))\n",
    "   \n",
    "    \n",
    "    def __mul__(self, other):\n",
    "        '''Returns the inner porduct of self and other if the input is a Vector. \n",
    "        Returns the multipication of self and other if the input is a scalar.'''\n",
    "        \n",
    "        if type(other) == type(self):\n",
    "            if other.dim != self.dim:\n",
    "                raise ValueError('The two vectors should have the same dimension!')\n",
    "            else:\n",
    "                ans = [i*j for i,j in zip(self.num, other.num)]\n",
    "                l = len(self.num)\n",
    "                return(Vector(l,ans))\n",
    "        elif isinstance(other, (int, float)):\n",
    "            ans = [i*other for i in self.num]\n",
    "            l = len(self.num)\n",
    "            return(Vector(l,ans))\n",
    "    \n",
    "    def __rmul__(self, other):\n",
    "        return(self.__mul__(other))\n",
    "        \n",
    "    def norm(self, p):\n",
    "        '''Returns the p-norm of a vector.'''\n",
    "        \n",
    "        if not isinstance(p,(int, float)):\n",
    "            raise ValueError('The norm input should be int or float!')\n",
    "        if p < 0:\n",
    "            raise ValueError('The norm should be positive!')\n",
    "        elif  p==0:\n",
    "            ans = sum([i!=0 for i in self.num])\n",
    "            return(ans)\n",
    "        elif 0 < p < float('inf'):\n",
    "            return(sum([abs(i)**(p) for i in self.num])**(1/p))\n",
    "        elif p == float('inf'):\n",
    "            return(max([abs(i) for i in self.num]))\n",
    "        \n",
    "x = Vector(3,(1,0,3))\n",
    "y = Vector(3,(1,0,3))\n",
    "print(x.norm(1))\n",
    "\n"
   ]
  },
  {
   "cell_type": "code",
   "execution_count": 20,
   "metadata": {},
   "outputs": [
    {
     "name": "stdout",
     "output_type": "stream",
     "text": [
      "True\n"
     ]
    }
   ],
   "source": [
    "# Q2-1\n",
    "class Point:\n",
    "    '''Represent a 2-d point.'''\n",
    "    \n",
    "    def __init__(self, x=0, y=0):\n",
    "        if isinstance(x,(int, float)) and isinstance(y,(int,float)):\n",
    "            self.x = x\n",
    "            self.y = y\n",
    "        else:\n",
    "            raise ValueError('The value should be int or float!')\n",
    "    \n",
    "    # Implement the comparison \n",
    "    def __eq__(self, other):\n",
    "        s = (self.x, self.y)\n",
    "        o = (other.x, other.y)\n",
    "        return(s==o)\n",
    "    def __ne_(self, other):\n",
    "        s = (self.x, self.y)\n",
    "        o = (other.x, other.y)\n",
    "        return(s != o)\n",
    "    def __lt__(self, other):\n",
    "        s = (self.x, self.y)\n",
    "        o = (other.x, other.y)\n",
    "        return(s < o)\n",
    "    def __gt__(self, other):\n",
    "        s = (self.x, self.y)\n",
    "        o = (other.x, other.y)\n",
    "        return(s > o)\n",
    "    def __le__(self, other):\n",
    "        s = (self.x, self.y)\n",
    "        o = (other.x, other.y)\n",
    "        return(s <= o)\n",
    "    def __ge__(self, other):\n",
    "        s = (self.x, self.y)\n",
    "        o = (other.x, other.y)\n",
    "        return(s >= o)\n",
    "        \n",
    "    def __add__(self, p2):\n",
    "        '''Return the addition of the two points, self and p2.'''\n",
    "        \n",
    "        if type(self) == type(p2):\n",
    "            new = Point()\n",
    "            new.x = self.x+p2.x\n",
    "            new.y = self.y+p2.y\n",
    "            return(new)\n",
    "# Q2-4\n",
    "class Line:\n",
    "    '''Represent a line in the 2-d Euclidean plane.'''\n",
    "    \n",
    "    def __init__(self, m, b):\n",
    "        # m represent the slope and b represent the intercept\n",
    "        if isinstance(m, (int, float)) and isinstance(b, (int, float)):\n",
    "            self.m = m\n",
    "            self.b = b\n",
    "        else:\n",
    "            raise ValueError('The value of slope and intercept should be integer or float!')\n",
    "    \n",
    "    def project(self, p):\n",
    "        if isinstance(p, Point):\n",
    "            new = Point()\n",
    "            new.x = (self.m*p.y + p.x - self.m*self.b)/(self.m*(self.m+1))\n",
    "            new.y = (self.m*self.m*p.y + self.m*p.x + self.b)/(self.m*(self.m+1))\n",
    "            return(new)\n",
    "        else:\n",
    "            raise TypeError('The input should be a Point.')\n",
    "        \n",
    "a = Point(1,2)\n",
    "b = Point(1,2)\n",
    "print(a >= b)"
   ]
  },
  {
   "cell_type": "code",
   "execution_count": 5,
   "metadata": {},
   "outputs": [
    {
     "name": "stdout",
     "output_type": "stream",
     "text": [
      "2\n"
     ]
    }
   ],
   "source": [
    "# Q3-1,2 \n",
    "class Author:\n",
    "    '''Represent the authors of a bibliography.'''\n",
    "    \n",
    "    next_id = 0\n",
    "    def __init__(self, given_name = None, family_name = None):\n",
    "        if given_name!=None and type(given_name)!=str:\n",
    "            raise TypeError('The name should be string.')\n",
    "        if family_name!=None and type(family_name)!=str:\n",
    "            raise TypeError('The name should be string.')    \n",
    "        self.given_name = given_name\n",
    "        self.family_name = family_name\n",
    "        Author.next_id += 1\n",
    "        self.author_id = Author.next_id\n",
    "    \n",
    "    def __str__(self):\n",
    "        '''Represent the string of an author.'''\n",
    "        if self.given_name!=None and self.family_name!=None:\n",
    "            output = self.family_name+', '+self.given_name[0]+'.'\n",
    "            return(output)\n",
    "        else:\n",
    "            raise ValueError('The family name and given name should not be empty')\n",
    "        \n",
    "x = Author('Yeh')\n",
    "y = Author('Huang')\n",
    "print(y.author_id)\n"
   ]
  },
  {
   "cell_type": "code",
   "execution_count": 9,
   "metadata": {},
   "outputs": [
    {
     "data": {
      "text/plain": [
       "'Yeh, A. and Tsai, S. and Chiou, S. (1991). Book.'"
      ]
     },
     "execution_count": 9,
     "metadata": {},
     "output_type": "execute_result"
    }
   ],
   "source": [
    "# Q3-3,4\n",
    "class Document:\n",
    "    '''Represent a document of bibliography.'''\n",
    "    \n",
    "    def __init__(self, author=list(), title=None, year=None):\n",
    "        if author != []:\n",
    "            if type(author) != list:\n",
    "                raise TypeError('The author should be a list of Author')\n",
    "            elif all([type(i)==Author for i in author])!=True:\n",
    "                raise TypeError('The author should be a list of Author')\n",
    "        if title != None and type(title) != str:\n",
    "            raise TypeError('The title should be a string')\n",
    "        if year != None and type(year) != int:\n",
    "            raise TypeError('The year should be an integer')\n",
    "        self.author = author\n",
    "        self.title = title\n",
    "        self.year = year\n",
    "        \n",
    "    def __str__(self):\n",
    "        '''Represent basic information for a document.'''\n",
    "        \n",
    "        if self.author == [] or self.title == None or self.year == None:\n",
    "            raise ValueError('The attributes of a document should not be empty!')\n",
    "        \n",
    "        au_list = [i.__str__() for i in self.author]\n",
    "        au = ' and '.join(au_list)\n",
    "        ye = ' ('+str(self.year)+'). '\n",
    "        ti = self.title+'.'\n",
    "        ans = au+ye+ti\n",
    "        return(ans)\n",
    "\n",
    "x = Author('Amelie','Yeh')\n",
    "y = Author('Sharon','Tsai')  \n",
    "z = Author('Sophia','Chiou')\n",
    "a = [x, y, z]\n",
    "d1 = Document(a,'Book',1991)\n",
    "str(d1)"
   ]
  },
  {
   "cell_type": "code",
   "execution_count": 10,
   "metadata": {},
   "outputs": [
    {
     "ename": "ValueError",
     "evalue": "The attributes of a document should not be empty!",
     "output_type": "error",
     "traceback": [
      "\u001b[0;31m---------------------------------------------------------------------------\u001b[0m",
      "\u001b[0;31mValueError\u001b[0m                                Traceback (most recent call last)",
      "\u001b[0;32m<ipython-input-10-c5104b8f7870>\u001b[0m in \u001b[0;36m<module>\u001b[0;34m()\u001b[0m\n\u001b[1;32m     20\u001b[0m \u001b[0;34m\u001b[0m\u001b[0m\n\u001b[1;32m     21\u001b[0m \u001b[0mb1\u001b[0m \u001b[0;34m=\u001b[0m \u001b[0mBook\u001b[0m\u001b[0;34m(\u001b[0m\u001b[0;34m)\u001b[0m\u001b[0;34m\u001b[0m\u001b[0m\n\u001b[0;32m---> 22\u001b[0;31m \u001b[0mb1\u001b[0m\u001b[0;34m.\u001b[0m\u001b[0m__str__\u001b[0m\u001b[0;34m(\u001b[0m\u001b[0;34m)\u001b[0m\u001b[0;34m\u001b[0m\u001b[0m\n\u001b[0m",
      "\u001b[0;32m<ipython-input-10-c5104b8f7870>\u001b[0m in \u001b[0;36m__str__\u001b[0;34m(self)\u001b[0m\n\u001b[1;32m     13\u001b[0m \u001b[0;34m\u001b[0m\u001b[0m\n\u001b[1;32m     14\u001b[0m         \u001b[0;32mif\u001b[0m \u001b[0mself\u001b[0m\u001b[0;34m.\u001b[0m\u001b[0mauthor\u001b[0m \u001b[0;34m==\u001b[0m \u001b[0;34m[\u001b[0m\u001b[0;34m]\u001b[0m \u001b[0;32mor\u001b[0m \u001b[0mself\u001b[0m\u001b[0;34m.\u001b[0m\u001b[0mtitle\u001b[0m \u001b[0;34m==\u001b[0m \u001b[0;32mNone\u001b[0m \u001b[0;32mor\u001b[0m \u001b[0mself\u001b[0m\u001b[0;34m.\u001b[0m\u001b[0myear\u001b[0m \u001b[0;34m==\u001b[0m \u001b[0;32mNone\u001b[0m \u001b[0;32mor\u001b[0m \u001b[0mself\u001b[0m\u001b[0;34m.\u001b[0m\u001b[0mpublisher\u001b[0m\u001b[0;34m==\u001b[0m\u001b[0;32mNone\u001b[0m\u001b[0;34m:\u001b[0m\u001b[0;34m\u001b[0m\u001b[0m\n\u001b[0;32m---> 15\u001b[0;31m             \u001b[0;32mraise\u001b[0m \u001b[0mValueError\u001b[0m\u001b[0;34m(\u001b[0m\u001b[0;34m'The attributes of a document should not be empty!'\u001b[0m\u001b[0;34m)\u001b[0m\u001b[0;34m\u001b[0m\u001b[0m\n\u001b[0m\u001b[1;32m     16\u001b[0m \u001b[0;34m\u001b[0m\u001b[0m\n\u001b[1;32m     17\u001b[0m         \u001b[0mpu\u001b[0m \u001b[0;34m=\u001b[0m \u001b[0;34m' '\u001b[0m\u001b[0;34m+\u001b[0m\u001b[0mself\u001b[0m\u001b[0;34m.\u001b[0m\u001b[0mpublisher\u001b[0m\u001b[0;34m+\u001b[0m\u001b[0;34m'.'\u001b[0m\u001b[0;34m\u001b[0m\u001b[0m\n",
      "\u001b[0;31mValueError\u001b[0m: The attributes of a document should not be empty!"
     ]
    }
   ],
   "source": [
    "# Q3-5\n",
    "class Book(Document):\n",
    "    '''Represent a document inherit from Book'''\n",
    "    \n",
    "    def __init__(self, author=list(), title=None, year=None, publisher=None):\n",
    "        Document.__init__(self, author, title, year)\n",
    "        if publisher!=None and type(publisher)!=str:\n",
    "            raise TypeError('The publisher should be a string')\n",
    "        self.publisher = publisher\n",
    "    \n",
    "    def __str__(self):\n",
    "        '''Represent basic information for a Book.'''\n",
    "        \n",
    "        if self.author == [] or self.title == None or self.year == None or self.publisher==None:\n",
    "            raise ValueError('The attributes of a document should not be empty!')\n",
    "            \n",
    "        pu = ' '+self.publisher+'.'\n",
    "        ans = super(Book, self).__str__()+pu  \n",
    "        return(ans)\n",
    "        \n",
    "b1 = Book() \n",
    "b1.__str__()"
   ]
  },
  {
   "cell_type": "code",
   "execution_count": null,
   "metadata": {},
   "outputs": [],
   "source": []
  }
 ],
 "metadata": {
  "kernelspec": {
   "display_name": "Python 3",
   "language": "python",
   "name": "python3"
  },
  "language_info": {
   "codemirror_mode": {
    "name": "ipython",
    "version": 3
   },
   "file_extension": ".py",
   "mimetype": "text/x-python",
   "name": "python",
   "nbconvert_exporter": "python",
   "pygments_lexer": "ipython3",
   "version": "3.6.4"
  }
 },
 "nbformat": 4,
 "nbformat_minor": 2
}
