{
 "cells": [
  {
   "cell_type": "markdown",
   "metadata": {},
   "source": [
    "# Stats 701-Homework8 Winter 2018\n",
    "## Hsuan-Yu Yeh \n",
    "### hsuanyu@umich.edu\n",
    "I discuss with Yung-Chun Lee for this homework. For problem 1, I spent 1.5 hours to finish it. For problem 2, I spent about 2 hours. For problem 3, I spent 3 hours and for problem 4, I spent 2 hours."
   ]
  },
  {
   "cell_type": "markdown",
   "metadata": {},
   "source": [
    "## Problem 1: Regular Expressions Practice\n",
    "http://www.greenteapress.com/thinkpython/code/words.txt "
   ]
  },
  {
   "cell_type": "code",
   "execution_count": 2,
   "metadata": {},
   "outputs": [
    {
     "data": {
      "text/plain": [
       "113810"
      ]
     },
     "execution_count": 2,
     "metadata": {},
     "output_type": "execute_result"
    }
   ],
   "source": [
    "# Q1-1\n",
    "from urllib.request import urlopen\n",
    "from bs4 import BeautifulSoup\n",
    "words = urlopen('http://www.greenteapress.com/thinkpython/code/words.txt').read()\n",
    "awords = words.decode('ascii')\n",
    "lwords = awords.split('\\r\\n')\n",
    "len(lwords)\n"
   ]
  },
  {
   "cell_type": "markdown",
   "metadata": {},
   "source": [
    "##### Q1-2\n",
    "The words in the list are ordered in alphabet. For example, apple is ranked before apply since e is greater than y in alphabetic list."
   ]
  },
  {
   "cell_type": "code",
   "execution_count": 4,
   "metadata": {},
   "outputs": [
    {
     "data": {
      "text/plain": [
       "60"
      ]
     },
     "execution_count": 4,
     "metadata": {},
     "output_type": "execute_result"
    }
   ],
   "source": [
    "# Q1-3\n",
    "import re\n",
    "l1 = list()\n",
    "for i in lwords:\n",
    "    if len(i)==4 and re.search(r'^[^aeiouy]{4}', i):\n",
    "        l1.append(i)\n",
    "    elif (re.search(r'^[^aeiouy]{4}[aeiouy]+', i)):\n",
    "        l1.append(i)\n",
    "\n",
    "len(l1)\n",
    "#print(l1)"
   ]
  },
  {
   "cell_type": "code",
   "execution_count": 48,
   "metadata": {},
   "outputs": [
    {
     "data": {
      "text/plain": [
       "50"
      ]
     },
     "execution_count": 48,
     "metadata": {},
     "output_type": "execute_result"
    }
   ],
   "source": [
    "# Q1-4\n",
    "l2 = list()\n",
    "for i in lwords:\n",
    "    if (re.search(r'a.*a.*a.*a.*', i)):\n",
    "        l2.append(i)\n",
    "        \n",
    "len(l2)\n",
    "#print(l2)"
   ]
  },
  {
   "cell_type": "code",
   "execution_count": 43,
   "metadata": {},
   "outputs": [
    {
     "data": {
      "text/plain": [
       "165"
      ]
     },
     "execution_count": 43,
     "metadata": {},
     "output_type": "execute_result"
    }
   ],
   "source": [
    "# Q1-5\n",
    "l3 = list()\n",
    "for i in lwords:\n",
    "    if (re.search(r'(^[aeiou])[^aeiouy]+[aeiou]$', i)):\n",
    "        l3.append(i)\n",
    "\n",
    "len(l3)"
   ]
  },
  {
   "cell_type": "code",
   "execution_count": 44,
   "metadata": {},
   "outputs": [
    {
     "data": {
      "text/plain": [
       "366"
      ]
     },
     "execution_count": 44,
     "metadata": {},
     "output_type": "execute_result"
    }
   ],
   "source": [
    "# Q1-6\n",
    "l4 = list()\n",
    "for i in lwords:\n",
    "    if (len(i) == 2):\n",
    "        l4.append(i)\n",
    "    elif (len(i)==3 and re.search(r'(\\w)\\1\\1', i)):\n",
    "        l4.append(i)\n",
    "    elif (re.search(r'(^\\w{2}).*\\1$', i)):\n",
    "        l4.append(i)\n",
    "        \n",
    "len(l4)"
   ]
  },
  {
   "cell_type": "markdown",
   "metadata": {},
   "source": [
    "## Problem 2: Exploring Internet Traffic with Regexes\n",
    "http://www-personal.umich.edu/~klevin/teaching/Winter2018/STATS701/SkypeIRC.txt"
   ]
  },
  {
   "cell_type": "code",
   "execution_count": 47,
   "metadata": {},
   "outputs": [
    {
     "data": {
      "text/plain": [
       "' 2263 322.749776  192.168.1.2 → 212.204.214.114 TCP 66 2848 → 6667 [ACK] Seq=623 Ack=101915 Win=8011 Len=0 TSval=14538551 TSecr=2196068827'"
      ]
     },
     "execution_count": 47,
     "metadata": {},
     "output_type": "execute_result"
    }
   ],
   "source": [
    "# Q2-1\n",
    "from urllib.request import urlopen\n",
    "from bs4 import BeautifulSoup\n",
    "words2 = urlopen('http://www-personal.umich.edu/~klevin/teaching/Winter2018/STATS701/SkypeIRC.txt').read()\n",
    "awords2 = words2.decode('utf-8')\n",
    "type(awords2)\n",
    "lwords2 = awords2.split('\\n')\n",
    "len(lwords2)-1 # the last element is empty\n",
    "#lwords2"
   ]
  },
  {
   "cell_type": "code",
   "execution_count": 12,
   "metadata": {},
   "outputs": [
    {
     "data": {
      "text/plain": [
       "368"
      ]
     },
     "execution_count": 12,
     "metadata": {},
     "output_type": "execute_result"
    }
   ],
   "source": [
    "# Q2-2 \n",
    "l = list()\n",
    "for i in lwords2:\n",
    "    l.append(re.findall(r'\\b\\d{1,3}\\.\\d{1,3}\\.\\d{1,3}\\.\\d{1,3}\\b', i))\n",
    "newl = [item for items in l for item in items] \n",
    "ip = list()\n",
    "for i in newl:\n",
    "    if i not in ip:\n",
    "        ip.append(i)\n",
    "len(ip)    \n",
    "        "
   ]
  },
  {
   "cell_type": "code",
   "execution_count": 15,
   "metadata": {
    "scrolled": true
   },
   "outputs": [
    {
     "data": {
      "text/plain": [
       "25"
      ]
     },
     "execution_count": 15,
     "metadata": {},
     "output_type": "execute_result"
    }
   ],
   "source": [
    "# Q2-3\n",
    "lurl = list()\n",
    "for i in lwords2:\n",
    "    if re.search(r'\\w-.*\\.comcast\\.net', i):\n",
    "        lurl.append(re.findall(r'[\\w+-]+\\.\\w+\\.\\w+\\.comcast\\.net', i))\n",
    "new2 = [item for items in lurl for item in items] \n",
    "url = list()\n",
    "for i in new2:\n",
    "    if i not in url:\n",
    "        url.append(i)\n",
    "\n",
    "len(url)"
   ]
  },
  {
   "cell_type": "code",
   "execution_count": 85,
   "metadata": {},
   "outputs": [
    {
     "data": {
      "image/png": "[encoded data removed]",
      "text/plain": [
       "<matplotlib.figure.Figure at 0x1094fcba8>"
      ]
     },
     "metadata": {},
     "output_type": "display_data"
    }
   ],
   "source": [
    "# Q2-4 \n",
    "import matplotlib.pyplot as plt\n",
    "import math\n",
    "import numpy as np\n",
    "ltime = list()\n",
    "for i in lwords2:\n",
    "    a = re.findall(r'\\d+\\.\\d+', i)\n",
    "    if a != []:\n",
    "        ltime.append(math.floor(float(a[0])))\n",
    "\n",
    "val = np.unique(ltime)\n",
    "count = [ltime.count(i) for i in val]\n",
    "plt.plot(val, count)\n",
    "plt.xlabel('seconds')\n",
    "plt.ylabel('frequency')\n",
    "plt.show()"
   ]
  },
  {
   "cell_type": "markdown",
   "metadata": {},
   "source": [
    "## Problem 3: Retrieving Data from the Web\n",
    "https://en.wikipedia.org/wiki/Ann_Arbor,_Michigan\n",
    "https://en.wikipedia.org/wiki/Los_Angeles\n",
    "https://en.wikipedia.org/wiki/Boston"
   ]
  },
  {
   "cell_type": "code",
   "execution_count": 51,
   "metadata": {},
   "outputs": [
    {
     "data": {
      "text/plain": [
       "<table class=\"wikitable collapsible\" style=\"width:90%; text-align:center; font-size:90%; line-height: 1.2em; margin:auto;\">\n",
       "<tr>\n",
       "<th colspan=\"14\">Climate data for Ann Arbor, Michigan (UMich, 1981–2010)</th>\n",
       "</tr>\n",
       "<tr>\n",
       "<th scope=\"row\">Month</th>\n",
       "<th scope=\"col\">Jan</th>\n",
       "<th scope=\"col\">Feb</th>\n",
       "<th scope=\"col\">Mar</th>\n",
       "<th scope=\"col\">Apr</th>\n",
       "<th scope=\"col\">May</th>\n",
       "<th scope=\"col\">Jun</th>\n",
       "<th scope=\"col\">Jul</th>\n",
       "<th scope=\"col\">Aug</th>\n",
       "<th scope=\"col\">Sep</th>\n",
       "<th scope=\"col\">Oct</th>\n",
       "<th scope=\"col\">Nov</th>\n",
       "<th scope=\"col\">Dec</th>\n",
       "<th scope=\"col\" style=\"border-left-width:medium\">Year</th>\n",
       "</tr>\n",
       "<tr style=\"text-align: center;\">\n",
       "<th scope=\"row\" style=\"height: 16px;\">Record high °F (°C)</th>\n",
       "<td style=\"background: #FF860D; color:#000000;\">72<br/>\n",
       "(22)</td>\n",
       "<td style=\"background: #FF9B37; color:#000000;\">67<br/>\n",
       "(19)</td>\n",
       "<td style=\"background: #FF5600; color:#000000;\">85<br/>\n",
       "(29)</td>\n",
       "<td style=\"background: #FF4800; color:#000000;\">88<br/>\n",
       "(31)</td>\n",
       "<td style=\"background: #FF2C00; color:#000000;\">95<br/>\n",
       "(35)</td>\n",
       "<td style=\"background: #FF1100; color:#FFFFFF;\">103<br/>\n",
       "(39)</td>\n",
       "<td style=\"background: #FF0300; color:#FFFFFF;\">105<br/>\n",
       "(41)</td>\n",
       "<td style=\"background: #FF0A00; color:#FFFFFF;\">104<br/>\n",
       "(40)</td>\n",
       "<td style=\"background: #FF1F00; color:#000000;\">99<br/>\n",
       "(37)</td>\n",
       "<td style=\"background: #FF3A00; color:#000000;\">91<br/>\n",
       "(33)</td>\n",
       "<td style=\"background: #FF6A00; color:#000000;\">78<br/>\n",
       "(26)</td>\n",
       "<td style=\"background: #FF9B37; color:#000000;\">67<br/>\n",
       "(19)</td>\n",
       "<td style=\"background: #FF0300; color:#FFFFFF; border-left-width:medium\">105<br/>\n",
       "(41)</td>\n",
       "</tr>\n",
       "<tr style=\"text-align: center;\">\n",
       "<th scope=\"row\" style=\"height: 16px;\">Average high °F (°C)</th>\n",
       "<td style=\"background: #E4E4FF; color:#000000;\">31.2<br/>\n",
       "(−0.4)</td>\n",
       "<td style=\"background: #EFEFFF; color:#000000;\">34.9<br/>\n",
       "(1.6)</td>\n",
       "<td style=\"background: #FFE8D2; color:#000000;\">45.9<br/>\n",
       "(7.7)</td>\n",
       "<td style=\"background: #FFB46A; color:#000000;\">59.6<br/>\n",
       "(15.3)</td>\n",
       "<td style=\"background: #FF8A16; color:#000000;\">70.6<br/>\n",
       "(21.4)</td>\n",
       "<td style=\"background: #FF6700; color:#000000;\">79.7<br/>\n",
       "(26.5)</td>\n",
       "<td style=\"background: #FF5A00; color:#000000;\">83.2<br/>\n",
       "(28.4)</td>\n",
       "<td style=\"background: #FF6100; color:#000000;\">81.2<br/>\n",
       "(27.3)</td>\n",
       "<td style=\"background: #FF7C00; color:#000000;\">74.2<br/>\n",
       "(23.4)</td>\n",
       "<td style=\"background: #FFAD5C; color:#000000;\">61.4<br/>\n",
       "(16.3)</td>\n",
       "<td style=\"background: #FFE1C3; color:#000000;\">47.9<br/>\n",
       "(8.8)</td>\n",
       "<td style=\"background: #EFEFFF; color:#000000;\">34.9<br/>\n",
       "(1.6)</td>\n",
       "<td style=\"background: #FFB76F; color:#000000; border-left-width:medium\">58.8<br/>\n",
       "(14.9)</td>\n",
       "</tr>\n",
       "<tr style=\"text-align: center;\">\n",
       "<th scope=\"row\" style=\"height: 16px;\">Daily mean °F (°C)</th>\n",
       "<td style=\"background: #D0D0FF; color:#000000;\">24.7<br/>\n",
       "(−4.1)</td>\n",
       "<td style=\"background: #D9D9FF; color:#000000;\">27.6<br/>\n",
       "(−2.4)</td>\n",
       "<td style=\"background: #F4F4FF; color:#000000;\">36.7<br/>\n",
       "(2.6)</td>\n",
       "<td style=\"background: #FFDDBB; color:#000000;\">49.0<br/>\n",
       "(9.4)</td>\n",
       "<td style=\"background: #FFB46A; color:#000000;\">59.6<br/>\n",
       "(15.3)</td>\n",
       "<td style=\"background: #FF9022; color:#000000;\">68.9<br/>\n",
       "(20.5)</td>\n",
       "<td style=\"background: #FF8205; color:#000000;\">72.7<br/>\n",
       "(22.6)</td>\n",
       "<td style=\"background: #FF8710; color:#000000;\">71.2<br/>\n",
       "(21.8)</td>\n",
       "<td style=\"background: #FFA449; color:#000000;\">63.9<br/>\n",
       "(17.7)</td>\n",
       "<td style=\"background: #FFD0A2; color:#000000;\">52.1<br/>\n",
       "(11.2)</td>\n",
       "<td style=\"background: #FFFCFA; color:#000000;\">40.6<br/>\n",
       "(4.8)</td>\n",
       "<td style=\"background: #DDDDFF; color:#000000;\">29.0<br/>\n",
       "(−1.7)</td>\n",
       "<td style=\"background: #FFDAB5; color:#000000; border-left-width:medium\">49.7<br/>\n",
       "(9.8)</td>\n",
       "</tr>\n",
       "<tr style=\"text-align: center;\">\n",
       "<th scope=\"row\" style=\"height: 16px;\">Average low °F (°C)</th>\n",
       "<td style=\"background: #BCBCFF; color:#000000;\">17.9<br/>\n",
       "(−7.8)</td>\n",
       "<td style=\"background: #C2C2FF; color:#000000;\">19.9<br/>\n",
       "(−6.7)</td>\n",
       "<td style=\"background: #D8D8FF; color:#000000;\">27.2<br/>\n",
       "(−2.7)</td>\n",
       "<td style=\"background: #F8F8FF; color:#000000;\">38.0<br/>\n",
       "(3.3)</td>\n",
       "<td style=\"background: #FFDFC0; color:#000000;\">48.2<br/>\n",
       "(9)</td>\n",
       "<td style=\"background: #FFBA76; color:#000000;\">57.9<br/>\n",
       "(14.4)</td>\n",
       "<td style=\"background: #FFAA56; color:#000000;\">62.1<br/>\n",
       "(16.7)</td>\n",
       "<td style=\"background: #FFAF5F; color:#000000;\">61.0<br/>\n",
       "(16.1)</td>\n",
       "<td style=\"background: #FFCC99; color:#000000;\">53.4<br/>\n",
       "(11.9)</td>\n",
       "<td style=\"background: #FFF6ED; color:#000000;\">42.4<br/>\n",
       "(5.8)</td>\n",
       "<td style=\"background: #E9E9FF; color:#000000;\">33.0<br/>\n",
       "(0.6)</td>\n",
       "<td style=\"background: #CBCBFF; color:#000000;\">23.0<br/>\n",
       "(−5)</td>\n",
       "<td style=\"background: #FFFDFC; color:#000000; border-left-width:medium\">40.4<br/>\n",
       "(4.7)</td>\n",
       "</tr>\n",
       "<tr style=\"text-align: center;\">\n",
       "<th scope=\"row\" style=\"height: 16px;\">Record low °F (°C)</th>\n",
       "<td style=\"background: #4444FF; color:#FFFFFF;\">−22<br/>\n",
       "(−30)</td>\n",
       "<td style=\"background: #3F3FFF; color:#FFFFFF;\">−23<br/>\n",
       "(−31)</td>\n",
       "<td style=\"background: #6F6FFF; color:#000000;\">−8<br/>\n",
       "(−22)</td>\n",
       "<td style=\"background: #9B9BFF; color:#000000;\">7<br/>\n",
       "(−14)</td>\n",
       "<td style=\"background: #C0C0FF; color:#000000;\">20<br/>\n",
       "(−7)</td>\n",
       "<td style=\"background: #F1F1FF; color:#000000;\">35<br/>\n",
       "(2)</td>\n",
       "<td style=\"background: #F6F6FF; color:#000000;\">37<br/>\n",
       "(3)</td>\n",
       "<td style=\"background: #FCFCFF; color:#000000;\">39<br/>\n",
       "(4)</td>\n",
       "<td style=\"background: #D6D6FF; color:#000000;\">27<br/>\n",
       "(−3)</td>\n",
       "<td style=\"background: #C0C0FF; color:#000000;\">19<br/>\n",
       "(−7)</td>\n",
       "<td style=\"background: #8A8AFF; color:#000000;\">1<br/>\n",
       "(−17)</td>\n",
       "<td style=\"background: #4A4AFF; color:#FFFFFF;\">−20<br/>\n",
       "(−29)</td>\n",
       "<td style=\"background: #3A3AFF; color:#FFFFFF; border-left-width:medium\">−26<br/>\n",
       "(−32)</td>\n",
       "</tr>\n",
       "<tr style=\"text-align: center;\">\n",
       "<th scope=\"row\" style=\"height: 16px;\">Average <a href=\"/wiki/Precipitation\" title=\"Precipitation\">precipitation</a> inches (mm)</th>\n",
       "<td style=\"background: #9CFF9C; color:#000000;\">2.59<br/>\n",
       "(65.8)</td>\n",
       "<td style=\"background: #9AFF9A; color:#000000;\">2.40<br/>\n",
       "(61)</td>\n",
       "<td style=\"background: #9AFF9A; color:#000000;\">2.66<br/>\n",
       "(67.6)</td>\n",
       "<td style=\"background: #7FFF7F; color:#000000;\">3.25<br/>\n",
       "(82.6)</td>\n",
       "<td style=\"background: #7DFF7D; color:#000000;\">3.42<br/>\n",
       "(86.9)</td>\n",
       "<td style=\"background: #6FFF6F; color:#000000;\">3.68<br/>\n",
       "(93.5)</td>\n",
       "<td style=\"background: #76FF76; color:#000000;\">3.61<br/>\n",
       "(91.7)</td>\n",
       "<td style=\"background: #73FF73; color:#000000;\">3.69<br/>\n",
       "(93.7)</td>\n",
       "<td style=\"background: #78FF78; color:#000000;\">3.45<br/>\n",
       "(87.6)</td>\n",
       "<td style=\"background: #93FF93; color:#000000;\">2.83<br/>\n",
       "(71.9)</td>\n",
       "<td style=\"background: #86FF86; color:#000000;\">3.09<br/>\n",
       "(78.5)</td>\n",
       "<td style=\"background: #91FF91; color:#000000;\">2.89<br/>\n",
       "(73.4)</td>\n",
       "<td style=\"background: #86FF86; color:#000000; border-left-width:medium\">37.55<br/>\n",
       "(953.8)</td>\n",
       "</tr>\n",
       "<tr style=\"text-align: center;\">\n",
       "<th scope=\"row\" style=\"height: 16px;\">Average snowfall inches (cm)</th>\n",
       "<td style=\"background: #000030; color:#FFFFFF;\">16.8<br/>\n",
       "(42.7)</td>\n",
       "<td style=\"background: #000030; color:#FFFFFF;\">13.4<br/>\n",
       "(34)</td>\n",
       "<td style=\"background: #0000B9; color:#FFFFFF;\">8.6<br/>\n",
       "(21.8)</td>\n",
       "<td style=\"background: #9191FF; color:#000000;\">2.8<br/>\n",
       "(7.1)</td>\n",
       "<td style=\"background: #FFFFFF; color:#000000;\">0<br/>\n",
       "(0)</td>\n",
       "<td style=\"background: #FFFFFF; color:#000000;\">0<br/>\n",
       "(0)</td>\n",
       "<td style=\"background: #FFFFFF; color:#000000;\">0<br/>\n",
       "(0)</td>\n",
       "<td style=\"background: #FFFFFF; color:#000000;\">0<br/>\n",
       "(0)</td>\n",
       "<td style=\"background: #FFFFFF; color:#000000;\">0<br/>\n",
       "(0)</td>\n",
       "<td style=\"background: #F7F7FF; color:#000000;\">0.2<br/>\n",
       "(0.5)</td>\n",
       "<td style=\"background: #8585FF; color:#000000;\">3.1<br/>\n",
       "(7.9)</td>\n",
       "<td style=\"background: #000030; color:#FFFFFF;\">13.5<br/>\n",
       "(34.3)</td>\n",
       "<td style=\"background: #4343FF; color:#FFFFFF; border-left-width:medium\">58.4<br/>\n",
       "(148.3)</td>\n",
       "</tr>\n",
       "<tr style=\"text-align: center;\">\n",
       "<th scope=\"row\" style=\"height: 16px;\">Average precipitation days <span class=\"nowrap\" style=\"font-size:90%;\">(≥ 0.01 in)</span></th>\n",
       "<td style=\"background: #2C2CFF; color:#FFFFFF;\">17.1</td>\n",
       "<td style=\"background: #4242FF; color:#FFFFFF;\">13.8</td>\n",
       "<td style=\"background: #5151FF; color:#FFFFFF;\">14.1</td>\n",
       "<td style=\"background: #5454FF; color:#FFFFFF;\">13.4</td>\n",
       "<td style=\"background: #5757FF; color:#FFFFFF;\">13.6</td>\n",
       "<td style=\"background: #6767FF; color:#000000;\">11.9</td>\n",
       "<td style=\"background: #7272FF; color:#000000;\">11.4</td>\n",
       "<td style=\"background: #7676FF; color:#000000;\">11.1</td>\n",
       "<td style=\"background: #7676FF; color:#000000;\">10.7</td>\n",
       "<td style=\"background: #6666FF; color:#FFFFFF;\">12.4</td>\n",
       "<td style=\"background: #4F4FFF; color:#FFFFFF;\">13.8</td>\n",
       "<td style=\"background: #2F2FFF; color:#FFFFFF;\">16.8</td>\n",
       "<td style=\"background: #5757FF; color:#FFFFFF; border-left-width:medium\">160.1</td>\n",
       "</tr>\n",
       "<tr style=\"text-align: center;\">\n",
       "<th scope=\"row\" style=\"height: 16px;\">Average snowy days <span class=\"nowrap\" style=\"font-size:90%;\">(≥ 0.1 in)</span></th>\n",
       "<td style=\"background: #4949FF; color:#FFFFFF;\">14.7</td>\n",
       "<td style=\"background: #6363FF; color:#FFFFFF;\">11.4</td>\n",
       "<td style=\"background: #A1A1FF; color:#000000;\">7.6</td>\n",
       "<td style=\"background: #DFDFFF; color:#000000;\">2.5</td>\n",
       "<td style=\"background: #FFFFFF; color:#000000;\">0</td>\n",
       "<td style=\"background: #FFFFFF; color:#000000;\">0</td>\n",
       "<td style=\"background: #FFFFFF; color:#000000;\">0</td>\n",
       "<td style=\"background: #FFFFFF; color:#000000;\">0</td>\n",
       "<td style=\"background: #FFFFFF; color:#000000;\">0</td>\n",
       "<td style=\"background: #F8F8FF; color:#000000;\">0.5</td>\n",
       "<td style=\"background: #C5C5FF; color:#000000;\">4.5</td>\n",
       "<td style=\"background: #6969FF; color:#000000;\">12.1</td>\n",
       "<td style=\"background: #C7C7FF; color:#000000; border-left-width:medium\">53.2</td>\n",
       "</tr>\n",
       "<tr>\n",
       "<td colspan=\"14\" style=\"text-align:center;font-size:95%;\">Source: NOAA<sup class=\"reference\" id=\"cite_ref-NOAA_45-3\"><a href=\"#cite_note-NOAA-45\">[45]</a></sup><sup class=\"reference\" id=\"cite_ref-46\"><a href=\"#cite_note-46\">[46]</a></sup></td>\n",
       "</tr>\n",
       "</table>"
      ]
     },
     "execution_count": 51,
     "metadata": {},
     "output_type": "execute_result"
    }
   ],
   "source": [
    "# Q3-1 \n",
    "import urllib.request\n",
    "from bs4 import BeautifulSoup\n",
    "aa = urllib.request.urlopen('https://en.wikipedia.org/wiki/Ann_Arbor,_Michigan')\n",
    "parsed = BeautifulSoup(aa, 'html.parser')\n",
    "aa = parsed.find(string=re.compile(r'Climate data for .*')).find_parents('table')[0]\n",
    "aa"
   ]
  },
  {
   "cell_type": "code",
   "execution_count": 79,
   "metadata": {},
   "outputs": [
    {
     "name": "stdout",
     "output_type": "stream",
     "text": [
      "There are  12 child nodes for table.\n",
      "The children nodes are: tr\n"
     ]
    }
   ],
   "source": [
    "child = list(filter(lambda x: x!=None, [child.name for child in aa]))\n",
    "print('There are ', len(child), 'child nodes for table.')\n",
    "print('The children nodes are:', ','.join(set(child)))"
   ]
  },
  {
   "cell_type": "code",
   "execution_count": 80,
   "metadata": {},
   "outputs": [
    {
     "name": "stdout",
     "output_type": "stream",
     "text": [
      "<table class=\"wikitable collapsible\" style=\"width:90%; text-align:center; font-size:90%; line-height: 1.2em; margin:auto;\">\n",
      "<tr>\n",
      "<th colspan=\"14\">Climate data for Ann Arbor, Michigan (UMich, 1981–2010)</th>\n",
      "</tr>\n",
      "<tr>\n",
      "<th scope=\"row\">Month</th>\n",
      "<th scope=\"col\">Jan</th>\n",
      "<th scope=\"col\">Feb</th>\n",
      "<th scope=\"col\">Mar</th>\n",
      "<th scope=\"col\">Apr</th>\n",
      "<th scope=\"col\">May</th>\n",
      "<th scope=\"col\">Jun</th>\n",
      "<th scope=\"col\">Jul</th>\n",
      "<th scope=\"col\">Aug</th>\n",
      "<th scope=\"col\">Sep</th>\n",
      "<th scope=\"col\">Oct</th>\n",
      "<th scope=\"col\">Nov</th>\n",
      "<th scope=\"col\">Dec</th>\n",
      "<th scope=\"col\" style=\"border-left-width:medium\">Year</th>\n",
      "</tr>\n",
      "<tr style=\"text-align: center;\">\n",
      "<th scope=\"row\" style=\"height: 16px;\">Record high °F (°C)</th>\n",
      "<td style=\"background: #FF860D; color:#000000;\">72<br/>\n",
      "(22)</td>\n",
      "<td style=\"background: #FF9B37; color:#000000;\">67<br/>\n",
      "(19)</td>\n",
      "<td style=\"background: #FF5600; color:#000000;\">85<br/>\n",
      "(29)</td>\n",
      "<td style=\"background: #FF4800; color:#000000;\">88<br/>\n",
      "(31)</td>\n",
      "<td style=\"background: #FF2C00; color:#000000;\">95<br/>\n",
      "(35)</td>\n",
      "<td style=\"background: #FF1100; color:#FFFFFF;\">103<br/>\n",
      "(39)</td>\n",
      "<td style=\"background: #FF0300; color:#FFFFFF;\">105<br/>\n",
      "(41)</td>\n",
      "<td style=\"background: #FF0A00; color:#FFFFFF;\">104<br/>\n",
      "(40)</td>\n",
      "<td style=\"background: #FF1F00; color:#000000;\">99<br/>\n",
      "(37)</td>\n",
      "<td style=\"background: #FF3A00; color:#000000;\">91<br/>\n",
      "(33)</td>\n",
      "<td style=\"background: #FF6A00; color:#000000;\">78<br/>\n",
      "(26)</td>\n",
      "<td style=\"background: #FF9B37; color:#000000;\">67<br/>\n",
      "(19)</td>\n",
      "<td style=\"background: #FF0300; color:#FFFFFF; border-left-width:medium\">105<br/>\n",
      "(41)</td>\n",
      "</tr>\n",
      "<tr style=\"text-align: center;\">\n",
      "<th scope=\"row\" style=\"height: 16px;\">Average high °F (°C)</th>\n",
      "<td style=\"background: #E4E4FF; color:#000000;\">31.2<br/>\n",
      "(−0.4)</td>\n",
      "<td style=\"background: #EFEFFF; color:#000000;\">34.9<br/>\n",
      "(1.6)</td>\n",
      "<td style=\"background: #FFE8D2; color:#000000;\">45.9<br/>\n",
      "(7.7)</td>\n",
      "<td style=\"background: #FFB46A; color:#000000;\">59.6<br/>\n",
      "(15.3)</td>\n",
      "<td style=\"background: #FF8A16; color:#000000;\">70.6<br/>\n",
      "(21.4)</td>\n",
      "<td style=\"background: #FF6700; color:#000000;\">79.7<br/>\n",
      "(26.5)</td>\n",
      "<td style=\"background: #FF5A00; color:#000000;\">83.2<br/>\n",
      "(28.4)</td>\n",
      "<td style=\"background: #FF6100; color:#000000;\">81.2<br/>\n",
      "(27.3)</td>\n",
      "<td style=\"background: #FF7C00; color:#000000;\">74.2<br/>\n",
      "(23.4)</td>\n",
      "<td style=\"background: #FFAD5C; color:#000000;\">61.4<br/>\n",
      "(16.3)</td>\n",
      "<td style=\"background: #FFE1C3; color:#000000;\">47.9<br/>\n",
      "(8.8)</td>\n",
      "<td style=\"background: #EFEFFF; color:#000000;\">34.9<br/>\n",
      "(1.6)</td>\n",
      "<td style=\"background: #FFB76F; color:#000000; border-left-width:medium\">58.8<br/>\n",
      "(14.9)</td>\n",
      "</tr>\n",
      "<tr style=\"text-align: center;\">\n",
      "<th scope=\"row\" style=\"height: 16px;\">Daily mean °F (°C)</th>\n",
      "<td style=\"background: #D0D0FF; color:#000000;\">24.7<br/>\n",
      "(−4.1)</td>\n",
      "<td style=\"background: #D9D9FF; color:#000000;\">27.6<br/>\n",
      "(−2.4)</td>\n",
      "<td style=\"background: #F4F4FF; color:#000000;\">36.7<br/>\n",
      "(2.6)</td>\n",
      "<td style=\"background: #FFDDBB; color:#000000;\">49.0<br/>\n",
      "(9.4)</td>\n",
      "<td style=\"background: #FFB46A; color:#000000;\">59.6<br/>\n",
      "(15.3)</td>\n",
      "<td style=\"background: #FF9022; color:#000000;\">68.9<br/>\n",
      "(20.5)</td>\n",
      "<td style=\"background: #FF8205; color:#000000;\">72.7<br/>\n",
      "(22.6)</td>\n",
      "<td style=\"background: #FF8710; color:#000000;\">71.2<br/>\n",
      "(21.8)</td>\n",
      "<td style=\"background: #FFA449; color:#000000;\">63.9<br/>\n",
      "(17.7)</td>\n",
      "<td style=\"background: #FFD0A2; color:#000000;\">52.1<br/>\n",
      "(11.2)</td>\n",
      "<td style=\"background: #FFFCFA; color:#000000;\">40.6<br/>\n",
      "(4.8)</td>\n",
      "<td style=\"background: #DDDDFF; color:#000000;\">29.0<br/>\n",
      "(−1.7)</td>\n",
      "<td style=\"background: #FFDAB5; color:#000000; border-left-width:medium\">49.7<br/>\n",
      "(9.8)</td>\n",
      "</tr>\n",
      "<tr style=\"text-align: center;\">\n",
      "<th scope=\"row\" style=\"height: 16px;\">Average low °F (°C)</th>\n",
      "<td style=\"background: #BCBCFF; color:#000000;\">17.9<br/>\n",
      "(−7.8)</td>\n",
      "<td style=\"background: #C2C2FF; color:#000000;\">19.9<br/>\n",
      "(−6.7)</td>\n",
      "<td style=\"background: #D8D8FF; color:#000000;\">27.2<br/>\n",
      "(−2.7)</td>\n",
      "<td style=\"background: #F8F8FF; color:#000000;\">38.0<br/>\n",
      "(3.3)</td>\n",
      "<td style=\"background: #FFDFC0; color:#000000;\">48.2<br/>\n",
      "(9)</td>\n",
      "<td style=\"background: #FFBA76; color:#000000;\">57.9<br/>\n",
      "(14.4)</td>\n",
      "<td style=\"background: #FFAA56; color:#000000;\">62.1<br/>\n",
      "(16.7)</td>\n",
      "<td style=\"background: #FFAF5F; color:#000000;\">61.0<br/>\n",
      "(16.1)</td>\n",
      "<td style=\"background: #FFCC99; color:#000000;\">53.4<br/>\n",
      "(11.9)</td>\n",
      "<td style=\"background: #FFF6ED; color:#000000;\">42.4<br/>\n",
      "(5.8)</td>\n",
      "<td style=\"background: #E9E9FF; color:#000000;\">33.0<br/>\n",
      "(0.6)</td>\n",
      "<td style=\"background: #CBCBFF; color:#000000;\">23.0<br/>\n",
      "(−5)</td>\n",
      "<td style=\"background: #FFFDFC; color:#000000; border-left-width:medium\">40.4<br/>\n",
      "(4.7)</td>\n",
      "</tr>\n",
      "<tr style=\"text-align: center;\">\n",
      "<th scope=\"row\" style=\"height: 16px;\">Record low °F (°C)</th>\n",
      "<td style=\"background: #4444FF; color:#FFFFFF;\">−22<br/>\n",
      "(−30)</td>\n",
      "<td style=\"background: #3F3FFF; color:#FFFFFF;\">−23<br/>\n",
      "(−31)</td>\n",
      "<td style=\"background: #6F6FFF; color:#000000;\">−8<br/>\n",
      "(−22)</td>\n",
      "<td style=\"background: #9B9BFF; color:#000000;\">7<br/>\n",
      "(−14)</td>\n",
      "<td style=\"background: #C0C0FF; color:#000000;\">20<br/>\n",
      "(−7)</td>\n",
      "<td style=\"background: #F1F1FF; color:#000000;\">35<br/>\n",
      "(2)</td>\n",
      "<td style=\"background: #F6F6FF; color:#000000;\">37<br/>\n",
      "(3)</td>\n",
      "<td style=\"background: #FCFCFF; color:#000000;\">39<br/>\n",
      "(4)</td>\n",
      "<td style=\"background: #D6D6FF; color:#000000;\">27<br/>\n",
      "(−3)</td>\n",
      "<td style=\"background: #C0C0FF; color:#000000;\">19<br/>\n",
      "(−7)</td>\n",
      "<td style=\"background: #8A8AFF; color:#000000;\">1<br/>\n",
      "(−17)</td>\n",
      "<td style=\"background: #4A4AFF; color:#FFFFFF;\">−20<br/>\n",
      "(−29)</td>\n",
      "<td style=\"background: #3A3AFF; color:#FFFFFF; border-left-width:medium\">−26<br/>\n",
      "(−32)</td>\n",
      "</tr>\n",
      "<tr style=\"text-align: center;\">\n",
      "<th scope=\"row\" style=\"height: 16px;\">Average <a href=\"/wiki/Precipitation\" title=\"Precipitation\">precipitation</a> inches (mm)</th>\n",
      "<td style=\"background: #9CFF9C; color:#000000;\">2.59<br/>\n",
      "(65.8)</td>\n",
      "<td style=\"background: #9AFF9A; color:#000000;\">2.40<br/>\n",
      "(61)</td>\n",
      "<td style=\"background: #9AFF9A; color:#000000;\">2.66<br/>\n",
      "(67.6)</td>\n",
      "<td style=\"background: #7FFF7F; color:#000000;\">3.25<br/>\n",
      "(82.6)</td>\n",
      "<td style=\"background: #7DFF7D; color:#000000;\">3.42<br/>\n",
      "(86.9)</td>\n",
      "<td style=\"background: #6FFF6F; color:#000000;\">3.68<br/>\n",
      "(93.5)</td>\n",
      "<td style=\"background: #76FF76; color:#000000;\">3.61<br/>\n",
      "(91.7)</td>\n",
      "<td style=\"background: #73FF73; color:#000000;\">3.69<br/>\n",
      "(93.7)</td>\n",
      "<td style=\"background: #78FF78; color:#000000;\">3.45<br/>\n",
      "(87.6)</td>\n",
      "<td style=\"background: #93FF93; color:#000000;\">2.83<br/>\n",
      "(71.9)</td>\n",
      "<td style=\"background: #86FF86; color:#000000;\">3.09<br/>\n",
      "(78.5)</td>\n",
      "<td style=\"background: #91FF91; color:#000000;\">2.89<br/>\n",
      "(73.4)</td>\n",
      "<td style=\"background: #86FF86; color:#000000; border-left-width:medium\">37.55<br/>\n",
      "(953.8)</td>\n",
      "</tr>\n",
      "<tr style=\"text-align: center;\">\n",
      "<th scope=\"row\" style=\"height: 16px;\">Average snowfall inches (cm)</th>\n",
      "<td style=\"background: #000030; color:#FFFFFF;\">16.8<br/>\n",
      "(42.7)</td>\n",
      "<td style=\"background: #000030; color:#FFFFFF;\">13.4<br/>\n",
      "(34)</td>\n",
      "<td style=\"background: #0000B9; color:#FFFFFF;\">8.6<br/>\n",
      "(21.8)</td>\n",
      "<td style=\"background: #9191FF; color:#000000;\">2.8<br/>\n",
      "(7.1)</td>\n",
      "<td style=\"background: #FFFFFF; color:#000000;\">0<br/>\n",
      "(0)</td>\n",
      "<td style=\"background: #FFFFFF; color:#000000;\">0<br/>\n",
      "(0)</td>\n",
      "<td style=\"background: #FFFFFF; color:#000000;\">0<br/>\n",
      "(0)</td>\n",
      "<td style=\"background: #FFFFFF; color:#000000;\">0<br/>\n",
      "(0)</td>\n",
      "<td style=\"background: #FFFFFF; color:#000000;\">0<br/>\n",
      "(0)</td>\n",
      "<td style=\"background: #F7F7FF; color:#000000;\">0.2<br/>\n",
      "(0.5)</td>\n",
      "<td style=\"background: #8585FF; color:#000000;\">3.1<br/>\n",
      "(7.9)</td>\n",
      "<td style=\"background: #000030; color:#FFFFFF;\">13.5<br/>\n",
      "(34.3)</td>\n",
      "<td style=\"background: #4343FF; color:#FFFFFF; border-left-width:medium\">58.4<br/>\n",
      "(148.3)</td>\n",
      "</tr>\n",
      "<tr style=\"text-align: center;\">\n",
      "<th scope=\"row\" style=\"height: 16px;\">Average precipitation days <span class=\"nowrap\" style=\"font-size:90%;\">(≥ 0.01 in)</span></th>\n",
      "<td style=\"background: #2C2CFF; color:#FFFFFF;\">17.1</td>\n",
      "<td style=\"background: #4242FF; color:#FFFFFF;\">13.8</td>\n",
      "<td style=\"background: #5151FF; color:#FFFFFF;\">14.1</td>\n",
      "<td style=\"background: #5454FF; color:#FFFFFF;\">13.4</td>\n",
      "<td style=\"background: #5757FF; color:#FFFFFF;\">13.6</td>\n",
      "<td style=\"background: #6767FF; color:#000000;\">11.9</td>\n",
      "<td style=\"background: #7272FF; color:#000000;\">11.4</td>\n",
      "<td style=\"background: #7676FF; color:#000000;\">11.1</td>\n",
      "<td style=\"background: #7676FF; color:#000000;\">10.7</td>\n",
      "<td style=\"background: #6666FF; color:#FFFFFF;\">12.4</td>\n",
      "<td style=\"background: #4F4FFF; color:#FFFFFF;\">13.8</td>\n",
      "<td style=\"background: #2F2FFF; color:#FFFFFF;\">16.8</td>\n",
      "<td style=\"background: #5757FF; color:#FFFFFF; border-left-width:medium\">160.1</td>\n",
      "</tr>\n",
      "<tr style=\"text-align: center;\">\n",
      "<th scope=\"row\" style=\"height: 16px;\">Average snowy days <span class=\"nowrap\" style=\"font-size:90%;\">(≥ 0.1 in)</span></th>\n",
      "<td style=\"background: #4949FF; color:#FFFFFF;\">14.7</td>\n",
      "<td style=\"background: #6363FF; color:#FFFFFF;\">11.4</td>\n",
      "<td style=\"background: #A1A1FF; color:#000000;\">7.6</td>\n",
      "<td style=\"background: #DFDFFF; color:#000000;\">2.5</td>\n",
      "<td style=\"background: #FFFFFF; color:#000000;\">0</td>\n",
      "<td style=\"background: #FFFFFF; color:#000000;\">0</td>\n",
      "<td style=\"background: #FFFFFF; color:#000000;\">0</td>\n",
      "<td style=\"background: #FFFFFF; color:#000000;\">0</td>\n",
      "<td style=\"background: #FFFFFF; color:#000000;\">0</td>\n",
      "<td style=\"background: #F8F8FF; color:#000000;\">0.5</td>\n",
      "<td style=\"background: #C5C5FF; color:#000000;\">4.5</td>\n",
      "<td style=\"background: #6969FF; color:#000000;\">12.1</td>\n",
      "<td style=\"background: #C7C7FF; color:#000000; border-left-width:medium\">53.2</td>\n",
      "</tr>\n",
      "<tr>\n",
      "<td colspan=\"14\" style=\"text-align:center;font-size:95%;\">Source: NOAA<sup class=\"reference\" id=\"cite_ref-NOAA_45-3\"><a href=\"#cite_note-NOAA-45\">[45]</a></sup><sup class=\"reference\" id=\"cite_ref-46\"><a href=\"#cite_note-46\">[46]</a></sup></td>\n",
      "</tr>\n",
      "</table>\n"
     ]
    }
   ],
   "source": [
    "# Q3-2 \n",
    "import numpy as np\n",
    "def retrieve_climate_table(url):\n",
    "    city = urllib.request.urlopen(url)\n",
    "    if city.getcode()!=200:\n",
    "        raise RuntimeError('Fail to retrieve the URL')\n",
    "        \n",
    "    parsed = BeautifulSoup(city, 'html.parser')\n",
    "    tab = parsed.find(string = re.compile(r'Climate data for .*')).find_parents('table')\n",
    "    if tab == []:\n",
    "        return(None)\n",
    "    else:\n",
    "        index = np.asscalar(np.random.randint(low = 0, high = len(tab), size=1))\n",
    "        return(tab[index])\n",
    "\n",
    "print(retrieve_climate_table('https://en.wikipedia.org/wiki/Ann_Arbor,_Michigan'))"
   ]
  },
  {
   "cell_type": "code",
   "execution_count": 81,
   "metadata": {},
   "outputs": [
    {
     "name": "stdout",
     "output_type": "stream",
     "text": [
      "[b'Month', b'Record high \\xc2\\xb0F (\\xc2\\xb0C)', b'Average high \\xc2\\xb0F (\\xc2\\xb0C)', b'Daily mean \\xc2\\xb0F (\\xc2\\xb0C)', b'Average low \\xc2\\xb0F (\\xc2\\xb0C)', b'Record low \\xc2\\xb0F (\\xc2\\xb0C)', b'Average precipitation inches (mm)', b'Average snowfall inches (cm)', b'Average precipitation days (\\xe2\\x89\\xa5 0.01 in)', b'Average snowy days (\\xe2\\x89\\xa5 0.1 in)']\n"
     ]
    }
   ],
   "source": [
    "# Q3-3\n",
    "def list_climate_table_row_names(url):\n",
    "    tab = retrieve_climate_table(url)\n",
    "    if tab == None:\n",
    "        return(None)\n",
    "    else:\n",
    "        row = tab.find_all('th', scope='row')\n",
    "        return([name.text.encode('utf-8') for name in row])\n",
    "    \n",
    "print(list_climate_table_row_names('https://en.wikipedia.org/wiki/Ann_Arbor,_Michigan'))\n",
    "    "
   ]
  },
  {
   "cell_type": "raw",
   "metadata": {},
   "source": [
    "Q3-4\n",
    "Pseudo-code:\n",
    "\n",
    "def retrieve_climate_data_row(url, rowname):\n",
    "    ＃＃get the table\n",
    "    tab = retrieve_climate_table(url)\n",
    "    \n",
    "    ＃＃get the row\n",
    "    head = list_climate_table_row_names(url)\n",
    "    matched_row = filter(lambda x: x.text == rowname, head)\n",
    "    \n",
    "    ＃＃get the content\n",
    "    for col in matched_row:\n",
    "        tag = col.find_parent('tr')\n",
    "        return([cont for cont in tag.text.split() if cont != rowname])\n"
   ]
  },
  {
   "cell_type": "markdown",
   "metadata": {},
   "source": [
    "## Problem 4: Relational Database and SQL"
   ]
  },
  {
   "cell_type": "code",
   "execution_count": 77,
   "metadata": {},
   "outputs": [
    {
     "name": "stdout",
     "output_type": "stream",
     "text": [
      "Album\n",
      "Artist\n",
      "Customer\n",
      "Employee\n",
      "Genre\n",
      "Invoice\n",
      "InvoiceLine\n",
      "MediaType\n",
      "Playlist\n",
      "PlaylistTrack\n",
      "Track\n"
     ]
    },
    {
     "data": {
      "text/plain": [
       "11"
      ]
     },
     "execution_count": 77,
     "metadata": {},
     "output_type": "execute_result"
    }
   ],
   "source": [
    "# Q4-1,2\n",
    "import sqlite3\n",
    "import os\n",
    "os.chdir('/Users/yehhsuan-yu/Umich/Stats701')\n",
    "conn = sqlite3.connect('Chinook_Sqlite.sqlite')\n",
    "c = conn.cursor()\n",
    "name = c.execute(\n",
    "    '''SELECT name FROM sqlite_master WHERE type='table' ''' \n",
    ")\n",
    "count = 0\n",
    "for i in name:\n",
    "    count = count + 1\n",
    "    print(i[0])\n",
    "c.close()   \n",
    "count\n",
    "# There ara 11 tables in the database"
   ]
  },
  {
   "cell_type": "code",
   "execution_count": 78,
   "metadata": {},
   "outputs": [
    {
     "data": {
      "text/plain": [
       "23"
      ]
     },
     "execution_count": 78,
     "metadata": {},
     "output_type": "execute_result"
    }
   ],
   "source": [
    "# Q4-3\n",
    "def list_album_ids_by_letter(cha):\n",
    "    conn = sqlite3.connect('Chinook_Sqlite.sqlite')\n",
    "    c = conn.cursor()\n",
    "    name = c.execute('''SELECT Title FROM album''')\n",
    "    l = list()\n",
    "    for i in name:\n",
    "        if i[0][0].lower() == cha.lower():\n",
    "            l.append(i[0])\n",
    "    return(l)\n",
    "    c.close()\n",
    "\n",
    "list_album_ids_by_letter('C')\n",
    "len(list_album_ids_by_letter('C'))"
   ]
  },
  {
   "cell_type": "code",
   "execution_count": 355,
   "metadata": {},
   "outputs": [
    {
     "data": {
      "text/plain": [
       "25"
      ]
     },
     "execution_count": 355,
     "metadata": {},
     "output_type": "execute_result"
    }
   ],
   "source": [
    "list_album_ids_by_letter('M')\n",
    "len(list_album_ids_by_letter('M'))"
   ]
  },
  {
   "cell_type": "code",
   "execution_count": 417,
   "metadata": {},
   "outputs": [
    {
     "data": {
      "text/plain": [
       "74"
      ]
     },
     "execution_count": 417,
     "metadata": {},
     "output_type": "execute_result"
    }
   ],
   "source": [
    "# Q4-4 \n",
    "def list_song_ids_by_album_letter(cha):\n",
    "    conn = sqlite3.connect('Chinook_Sqlite.sqlite')\n",
    "    c = conn.cursor()\n",
    "    total = c.execute('''SELECT * FROM Album LEFT JOIN Track on Track.AlbumId = Album.AlbumId''')\n",
    "    name = list()\n",
    "    for i in total:\n",
    "        if i[1][0].lower() == cha.lower():\n",
    "            name.append(i[4])\n",
    "    return(name)\n",
    "\n",
    "list_song_ids_by_album_letter('N')\n",
    "len(list_song_ids_by_album_letter('N'))"
   ]
  },
  {
   "cell_type": "code",
   "execution_count": 418,
   "metadata": {},
   "outputs": [
    {
     "data": {
      "text/plain": [
       "106"
      ]
     },
     "execution_count": 418,
     "metadata": {},
     "output_type": "execute_result"
    }
   ],
   "source": [
    "list_song_ids_by_album_letter('D')\n",
    "len(list_song_ids_by_album_letter('D'))"
   ]
  },
  {
   "cell_type": "code",
   "execution_count": 421,
   "metadata": {},
   "outputs": [
    {
     "data": {
      "text/plain": [
       "350.3900000000009"
      ]
     },
     "execution_count": 421,
     "metadata": {},
     "output_type": "execute_result"
    }
   ],
   "source": [
    "# Q4-5\n",
    "def total_cost_by_album_letter(cha):\n",
    "    conn = sqlite3.connect('Chinook_Sqlite.sqlite')\n",
    "    c = conn.cursor()\n",
    "    total = c.execute('''SELECT * FROM Album LEFT JOIN Track on Track.AlbumId = Album.AlbumId''')\n",
    "    sum = 0\n",
    "    for i in total:\n",
    "        if i[1][0].lower() == cha.lower():\n",
    "            sum = sum + i[11]\n",
    "    return(sum)\n",
    "\n",
    "total_cost_by_album_letter('L')"
   ]
  },
  {
   "cell_type": "code",
   "execution_count": null,
   "metadata": {},
   "outputs": [],
   "source": []
  }
 ],
 "metadata": {
  "kernelspec": {
   "display_name": "Python 3",
   "language": "python",
   "name": "python3"
  },
  "language_info": {
   "codemirror_mode": {
    "name": "ipython",
    "version": 3
   },
   "file_extension": ".py",
   "mimetype": "text/x-python",
   "name": "python",
   "nbconvert_exporter": "python",
   "pygments_lexer": "ipython3",
   "version": "3.6.4"
  }
 },
 "nbformat": 4,
 "nbformat_minor": 2
}
